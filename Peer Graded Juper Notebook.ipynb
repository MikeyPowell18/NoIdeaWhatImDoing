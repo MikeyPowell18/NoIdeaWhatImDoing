{
  "metadata": {
    "language_info": {
      "codemirror_mode": {
        "name": "python",
        "version": 3
      },
      "file_extension": ".py",
      "mimetype": "text/x-python",
      "name": "python",
      "nbconvert_exporter": "python",
      "pygments_lexer": "ipython3",
      "version": "3.8"
    },
    "kernelspec": {
      "name": "python",
      "display_name": "Python (Pyodide)",
      "language": "python"
    }
  },
  "nbformat_minor": 4,
  "nbformat": 4,
  "cells": [
    {
      "cell_type": "markdown",
      "source": "# My Jupiter Note Book On IMB Watson Studio",
      "metadata": {}
    },
    {
      "cell_type": "markdown",
      "source": "__Mikey Powell__ \nJunior Data Analyst",
      "metadata": {}
    },
    {
      "cell_type": "markdown",
      "source": "*I am interested in data science because, well, I am a nerd.  I have slowly realized over the course of my career that I love deep diving into numbers, trends, and analyzing those.*",
      "metadata": {}
    },
    {
      "cell_type": "markdown",
      "source": "### Watch as I magically make one plus three equal to 7",
      "metadata": {}
    },
    {
      "cell_type": "code",
      "source": "one = 4\nthree = 3\nprint(one + three)",
      "metadata": {
        "trusted": true
      },
      "execution_count": 7,
      "outputs": [
        {
          "name": "stdout",
          "text": "7\n",
          "output_type": "stream"
        }
      ]
    },
    {
      "cell_type": "markdown",
      "source": "Check This List Bro\n\n+ Out\n+ Check\n+ It\n\nCrap, we gotta order it\n\n1. Check\n2. It\n3. Out\n\nLet's table this for later ----------------------------------------->\n\n|Check|It|Out|\n|--------|--|---|\n|Now|I'm|A|\n|Table|Baby|Yeah\n\n",
      "metadata": {}
    },
    {
      "cell_type": "code",
      "source": "",
      "metadata": {},
      "execution_count": null,
      "outputs": []
    }
  ]
}